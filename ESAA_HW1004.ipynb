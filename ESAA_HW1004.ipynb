{
  "nbformat": 4,
  "nbformat_minor": 0,
  "metadata": {
    "colab": {
      "provenance": [],
      "authorship_tag": "ABX9TyP6av8GDClGDGf1fFoPGdm/",
      "include_colab_link": true
    },
    "kernelspec": {
      "name": "python3",
      "display_name": "Python 3"
    },
    "language_info": {
      "name": "python"
    }
  },
  "cells": [
    {
      "cell_type": "markdown",
      "metadata": {
        "id": "view-in-github",
        "colab_type": "text"
      },
      "source": [
        "<a href=\"https://colab.research.google.com/github/whyeon92/ESAA_OB/blob/Code_Study/ESAA_HW1004.ipynb\" target=\"_parent\"><img src=\"https://colab.research.google.com/assets/colab-badge.svg\" alt=\"Open In Colab\"/></a>"
      ]
    },
    {
      "cell_type": "markdown",
      "source": [
        "# 8-6. 토픽 모델링(Topic Modeling) - 20 뉴스그룹"
      ],
      "metadata": {
        "id": "H6_5-58lPFKr"
      }
    },
    {
      "cell_type": "code",
      "execution_count": 19,
      "metadata": {
        "colab": {
          "base_uri": "https://localhost:8080/"
        },
        "id": "_EvjaUUqMXbV",
        "outputId": "1efacee9-9050-4e31-ae71-cf5e0d2c0ec4"
      },
      "outputs": [
        {
          "output_type": "stream",
          "name": "stdout",
          "text": [
            "CountVectorizer Shape： (7862, 1000)\n"
          ]
        }
      ],
      "source": [
        "from sklearn.datasets import fetch_20newsgroups\n",
        "from sklearn.feature_extraction.text import CountVectorizer\n",
        "from sklearn.decomposition import LatentDirichletAllocation\n",
        "# 모터사이클, 야구, 그래픽스, 윈도우즈, 중동, 기독교, 전자공학, 의학 8개 주제를 추출.\n",
        "cats = ['rec.motorcycles', 'rec.sport.baseball', 'comp.graphics', 'comp.windows.x', 'talk.politics.mideast', 'soc.religion.christian', 'sci.electronics', 'sci.med']\n",
        "# 위에서 cats 변수로 기재된 카테고리만 추출. featch_20newsgroups( )의 categories에 cats 입력\n",
        "news_df= fetch_20newsgroups(subset='all', remove=('headers', 'footers', 'quotes'), categories=cats, random_state=0)\n",
        "# LDA는 Count 기반의 벡터화만 적용합니다.\n",
        "count_vect = CountVectorizer(max_df=0.95, max_features=1000, min_df=2, stop_words='english', ngram_range=(1, 2))\n",
        "\n",
        "feat_vect = count_vect.fit_transform(news_df.data)\n",
        "print('CountVectorizer Shape：',feat_vect.shape)"
      ]
    },
    {
      "cell_type": "code",
      "source": [
        "lda = LatentDirichletAllocation(n_components=8, random_state=0)\n",
        "lda.fit(feat_vect)"
      ],
      "metadata": {
        "colab": {
          "base_uri": "https://localhost:8080/",
          "height": 80
        },
        "id": "FSN78qnwh2EH",
        "outputId": "4d952d12-ebb1-4eb3-a50c-0c4f12aa658c"
      },
      "execution_count": 26,
      "outputs": [
        {
          "output_type": "execute_result",
          "data": {
            "text/plain": [
              "LatentDirichletAllocation(n_components=8, random_state=0)"
            ],
            "text/html": [
              "<style>#sk-container-id-2 {\n",
              "  /* Definition of color scheme common for light and dark mode */\n",
              "  --sklearn-color-text: black;\n",
              "  --sklearn-color-line: gray;\n",
              "  /* Definition of color scheme for unfitted estimators */\n",
              "  --sklearn-color-unfitted-level-0: #fff5e6;\n",
              "  --sklearn-color-unfitted-level-1: #f6e4d2;\n",
              "  --sklearn-color-unfitted-level-2: #ffe0b3;\n",
              "  --sklearn-color-unfitted-level-3: chocolate;\n",
              "  /* Definition of color scheme for fitted estimators */\n",
              "  --sklearn-color-fitted-level-0: #f0f8ff;\n",
              "  --sklearn-color-fitted-level-1: #d4ebff;\n",
              "  --sklearn-color-fitted-level-2: #b3dbfd;\n",
              "  --sklearn-color-fitted-level-3: cornflowerblue;\n",
              "\n",
              "  /* Specific color for light theme */\n",
              "  --sklearn-color-text-on-default-background: var(--sg-text-color, var(--theme-code-foreground, var(--jp-content-font-color1, black)));\n",
              "  --sklearn-color-background: var(--sg-background-color, var(--theme-background, var(--jp-layout-color0, white)));\n",
              "  --sklearn-color-border-box: var(--sg-text-color, var(--theme-code-foreground, var(--jp-content-font-color1, black)));\n",
              "  --sklearn-color-icon: #696969;\n",
              "\n",
              "  @media (prefers-color-scheme: dark) {\n",
              "    /* Redefinition of color scheme for dark theme */\n",
              "    --sklearn-color-text-on-default-background: var(--sg-text-color, var(--theme-code-foreground, var(--jp-content-font-color1, white)));\n",
              "    --sklearn-color-background: var(--sg-background-color, var(--theme-background, var(--jp-layout-color0, #111)));\n",
              "    --sklearn-color-border-box: var(--sg-text-color, var(--theme-code-foreground, var(--jp-content-font-color1, white)));\n",
              "    --sklearn-color-icon: #878787;\n",
              "  }\n",
              "}\n",
              "\n",
              "#sk-container-id-2 {\n",
              "  color: var(--sklearn-color-text);\n",
              "}\n",
              "\n",
              "#sk-container-id-2 pre {\n",
              "  padding: 0;\n",
              "}\n",
              "\n",
              "#sk-container-id-2 input.sk-hidden--visually {\n",
              "  border: 0;\n",
              "  clip: rect(1px 1px 1px 1px);\n",
              "  clip: rect(1px, 1px, 1px, 1px);\n",
              "  height: 1px;\n",
              "  margin: -1px;\n",
              "  overflow: hidden;\n",
              "  padding: 0;\n",
              "  position: absolute;\n",
              "  width: 1px;\n",
              "}\n",
              "\n",
              "#sk-container-id-2 div.sk-dashed-wrapped {\n",
              "  border: 1px dashed var(--sklearn-color-line);\n",
              "  margin: 0 0.4em 0.5em 0.4em;\n",
              "  box-sizing: border-box;\n",
              "  padding-bottom: 0.4em;\n",
              "  background-color: var(--sklearn-color-background);\n",
              "}\n",
              "\n",
              "#sk-container-id-2 div.sk-container {\n",
              "  /* jupyter's `normalize.less` sets `[hidden] { display: none; }`\n",
              "     but bootstrap.min.css set `[hidden] { display: none !important; }`\n",
              "     so we also need the `!important` here to be able to override the\n",
              "     default hidden behavior on the sphinx rendered scikit-learn.org.\n",
              "     See: https://github.com/scikit-learn/scikit-learn/issues/21755 */\n",
              "  display: inline-block !important;\n",
              "  position: relative;\n",
              "}\n",
              "\n",
              "#sk-container-id-2 div.sk-text-repr-fallback {\n",
              "  display: none;\n",
              "}\n",
              "\n",
              "div.sk-parallel-item,\n",
              "div.sk-serial,\n",
              "div.sk-item {\n",
              "  /* draw centered vertical line to link estimators */\n",
              "  background-image: linear-gradient(var(--sklearn-color-text-on-default-background), var(--sklearn-color-text-on-default-background));\n",
              "  background-size: 2px 100%;\n",
              "  background-repeat: no-repeat;\n",
              "  background-position: center center;\n",
              "}\n",
              "\n",
              "/* Parallel-specific style estimator block */\n",
              "\n",
              "#sk-container-id-2 div.sk-parallel-item::after {\n",
              "  content: \"\";\n",
              "  width: 100%;\n",
              "  border-bottom: 2px solid var(--sklearn-color-text-on-default-background);\n",
              "  flex-grow: 1;\n",
              "}\n",
              "\n",
              "#sk-container-id-2 div.sk-parallel {\n",
              "  display: flex;\n",
              "  align-items: stretch;\n",
              "  justify-content: center;\n",
              "  background-color: var(--sklearn-color-background);\n",
              "  position: relative;\n",
              "}\n",
              "\n",
              "#sk-container-id-2 div.sk-parallel-item {\n",
              "  display: flex;\n",
              "  flex-direction: column;\n",
              "}\n",
              "\n",
              "#sk-container-id-2 div.sk-parallel-item:first-child::after {\n",
              "  align-self: flex-end;\n",
              "  width: 50%;\n",
              "}\n",
              "\n",
              "#sk-container-id-2 div.sk-parallel-item:last-child::after {\n",
              "  align-self: flex-start;\n",
              "  width: 50%;\n",
              "}\n",
              "\n",
              "#sk-container-id-2 div.sk-parallel-item:only-child::after {\n",
              "  width: 0;\n",
              "}\n",
              "\n",
              "/* Serial-specific style estimator block */\n",
              "\n",
              "#sk-container-id-2 div.sk-serial {\n",
              "  display: flex;\n",
              "  flex-direction: column;\n",
              "  align-items: center;\n",
              "  background-color: var(--sklearn-color-background);\n",
              "  padding-right: 1em;\n",
              "  padding-left: 1em;\n",
              "}\n",
              "\n",
              "\n",
              "/* Toggleable style: style used for estimator/Pipeline/ColumnTransformer box that is\n",
              "clickable and can be expanded/collapsed.\n",
              "- Pipeline and ColumnTransformer use this feature and define the default style\n",
              "- Estimators will overwrite some part of the style using the `sk-estimator` class\n",
              "*/\n",
              "\n",
              "/* Pipeline and ColumnTransformer style (default) */\n",
              "\n",
              "#sk-container-id-2 div.sk-toggleable {\n",
              "  /* Default theme specific background. It is overwritten whether we have a\n",
              "  specific estimator or a Pipeline/ColumnTransformer */\n",
              "  background-color: var(--sklearn-color-background);\n",
              "}\n",
              "\n",
              "/* Toggleable label */\n",
              "#sk-container-id-2 label.sk-toggleable__label {\n",
              "  cursor: pointer;\n",
              "  display: block;\n",
              "  width: 100%;\n",
              "  margin-bottom: 0;\n",
              "  padding: 0.5em;\n",
              "  box-sizing: border-box;\n",
              "  text-align: center;\n",
              "}\n",
              "\n",
              "#sk-container-id-2 label.sk-toggleable__label-arrow:before {\n",
              "  /* Arrow on the left of the label */\n",
              "  content: \"▸\";\n",
              "  float: left;\n",
              "  margin-right: 0.25em;\n",
              "  color: var(--sklearn-color-icon);\n",
              "}\n",
              "\n",
              "#sk-container-id-2 label.sk-toggleable__label-arrow:hover:before {\n",
              "  color: var(--sklearn-color-text);\n",
              "}\n",
              "\n",
              "/* Toggleable content - dropdown */\n",
              "\n",
              "#sk-container-id-2 div.sk-toggleable__content {\n",
              "  max-height: 0;\n",
              "  max-width: 0;\n",
              "  overflow: hidden;\n",
              "  text-align: left;\n",
              "  /* unfitted */\n",
              "  background-color: var(--sklearn-color-unfitted-level-0);\n",
              "}\n",
              "\n",
              "#sk-container-id-2 div.sk-toggleable__content.fitted {\n",
              "  /* fitted */\n",
              "  background-color: var(--sklearn-color-fitted-level-0);\n",
              "}\n",
              "\n",
              "#sk-container-id-2 div.sk-toggleable__content pre {\n",
              "  margin: 0.2em;\n",
              "  border-radius: 0.25em;\n",
              "  color: var(--sklearn-color-text);\n",
              "  /* unfitted */\n",
              "  background-color: var(--sklearn-color-unfitted-level-0);\n",
              "}\n",
              "\n",
              "#sk-container-id-2 div.sk-toggleable__content.fitted pre {\n",
              "  /* unfitted */\n",
              "  background-color: var(--sklearn-color-fitted-level-0);\n",
              "}\n",
              "\n",
              "#sk-container-id-2 input.sk-toggleable__control:checked~div.sk-toggleable__content {\n",
              "  /* Expand drop-down */\n",
              "  max-height: 200px;\n",
              "  max-width: 100%;\n",
              "  overflow: auto;\n",
              "}\n",
              "\n",
              "#sk-container-id-2 input.sk-toggleable__control:checked~label.sk-toggleable__label-arrow:before {\n",
              "  content: \"▾\";\n",
              "}\n",
              "\n",
              "/* Pipeline/ColumnTransformer-specific style */\n",
              "\n",
              "#sk-container-id-2 div.sk-label input.sk-toggleable__control:checked~label.sk-toggleable__label {\n",
              "  color: var(--sklearn-color-text);\n",
              "  background-color: var(--sklearn-color-unfitted-level-2);\n",
              "}\n",
              "\n",
              "#sk-container-id-2 div.sk-label.fitted input.sk-toggleable__control:checked~label.sk-toggleable__label {\n",
              "  background-color: var(--sklearn-color-fitted-level-2);\n",
              "}\n",
              "\n",
              "/* Estimator-specific style */\n",
              "\n",
              "/* Colorize estimator box */\n",
              "#sk-container-id-2 div.sk-estimator input.sk-toggleable__control:checked~label.sk-toggleable__label {\n",
              "  /* unfitted */\n",
              "  background-color: var(--sklearn-color-unfitted-level-2);\n",
              "}\n",
              "\n",
              "#sk-container-id-2 div.sk-estimator.fitted input.sk-toggleable__control:checked~label.sk-toggleable__label {\n",
              "  /* fitted */\n",
              "  background-color: var(--sklearn-color-fitted-level-2);\n",
              "}\n",
              "\n",
              "#sk-container-id-2 div.sk-label label.sk-toggleable__label,\n",
              "#sk-container-id-2 div.sk-label label {\n",
              "  /* The background is the default theme color */\n",
              "  color: var(--sklearn-color-text-on-default-background);\n",
              "}\n",
              "\n",
              "/* On hover, darken the color of the background */\n",
              "#sk-container-id-2 div.sk-label:hover label.sk-toggleable__label {\n",
              "  color: var(--sklearn-color-text);\n",
              "  background-color: var(--sklearn-color-unfitted-level-2);\n",
              "}\n",
              "\n",
              "/* Label box, darken color on hover, fitted */\n",
              "#sk-container-id-2 div.sk-label.fitted:hover label.sk-toggleable__label.fitted {\n",
              "  color: var(--sklearn-color-text);\n",
              "  background-color: var(--sklearn-color-fitted-level-2);\n",
              "}\n",
              "\n",
              "/* Estimator label */\n",
              "\n",
              "#sk-container-id-2 div.sk-label label {\n",
              "  font-family: monospace;\n",
              "  font-weight: bold;\n",
              "  display: inline-block;\n",
              "  line-height: 1.2em;\n",
              "}\n",
              "\n",
              "#sk-container-id-2 div.sk-label-container {\n",
              "  text-align: center;\n",
              "}\n",
              "\n",
              "/* Estimator-specific */\n",
              "#sk-container-id-2 div.sk-estimator {\n",
              "  font-family: monospace;\n",
              "  border: 1px dotted var(--sklearn-color-border-box);\n",
              "  border-radius: 0.25em;\n",
              "  box-sizing: border-box;\n",
              "  margin-bottom: 0.5em;\n",
              "  /* unfitted */\n",
              "  background-color: var(--sklearn-color-unfitted-level-0);\n",
              "}\n",
              "\n",
              "#sk-container-id-2 div.sk-estimator.fitted {\n",
              "  /* fitted */\n",
              "  background-color: var(--sklearn-color-fitted-level-0);\n",
              "}\n",
              "\n",
              "/* on hover */\n",
              "#sk-container-id-2 div.sk-estimator:hover {\n",
              "  /* unfitted */\n",
              "  background-color: var(--sklearn-color-unfitted-level-2);\n",
              "}\n",
              "\n",
              "#sk-container-id-2 div.sk-estimator.fitted:hover {\n",
              "  /* fitted */\n",
              "  background-color: var(--sklearn-color-fitted-level-2);\n",
              "}\n",
              "\n",
              "/* Specification for estimator info (e.g. \"i\" and \"?\") */\n",
              "\n",
              "/* Common style for \"i\" and \"?\" */\n",
              "\n",
              ".sk-estimator-doc-link,\n",
              "a:link.sk-estimator-doc-link,\n",
              "a:visited.sk-estimator-doc-link {\n",
              "  float: right;\n",
              "  font-size: smaller;\n",
              "  line-height: 1em;\n",
              "  font-family: monospace;\n",
              "  background-color: var(--sklearn-color-background);\n",
              "  border-radius: 1em;\n",
              "  height: 1em;\n",
              "  width: 1em;\n",
              "  text-decoration: none !important;\n",
              "  margin-left: 1ex;\n",
              "  /* unfitted */\n",
              "  border: var(--sklearn-color-unfitted-level-1) 1pt solid;\n",
              "  color: var(--sklearn-color-unfitted-level-1);\n",
              "}\n",
              "\n",
              ".sk-estimator-doc-link.fitted,\n",
              "a:link.sk-estimator-doc-link.fitted,\n",
              "a:visited.sk-estimator-doc-link.fitted {\n",
              "  /* fitted */\n",
              "  border: var(--sklearn-color-fitted-level-1) 1pt solid;\n",
              "  color: var(--sklearn-color-fitted-level-1);\n",
              "}\n",
              "\n",
              "/* On hover */\n",
              "div.sk-estimator:hover .sk-estimator-doc-link:hover,\n",
              ".sk-estimator-doc-link:hover,\n",
              "div.sk-label-container:hover .sk-estimator-doc-link:hover,\n",
              ".sk-estimator-doc-link:hover {\n",
              "  /* unfitted */\n",
              "  background-color: var(--sklearn-color-unfitted-level-3);\n",
              "  color: var(--sklearn-color-background);\n",
              "  text-decoration: none;\n",
              "}\n",
              "\n",
              "div.sk-estimator.fitted:hover .sk-estimator-doc-link.fitted:hover,\n",
              ".sk-estimator-doc-link.fitted:hover,\n",
              "div.sk-label-container:hover .sk-estimator-doc-link.fitted:hover,\n",
              ".sk-estimator-doc-link.fitted:hover {\n",
              "  /* fitted */\n",
              "  background-color: var(--sklearn-color-fitted-level-3);\n",
              "  color: var(--sklearn-color-background);\n",
              "  text-decoration: none;\n",
              "}\n",
              "\n",
              "/* Span, style for the box shown on hovering the info icon */\n",
              ".sk-estimator-doc-link span {\n",
              "  display: none;\n",
              "  z-index: 9999;\n",
              "  position: relative;\n",
              "  font-weight: normal;\n",
              "  right: .2ex;\n",
              "  padding: .5ex;\n",
              "  margin: .5ex;\n",
              "  width: min-content;\n",
              "  min-width: 20ex;\n",
              "  max-width: 50ex;\n",
              "  color: var(--sklearn-color-text);\n",
              "  box-shadow: 2pt 2pt 4pt #999;\n",
              "  /* unfitted */\n",
              "  background: var(--sklearn-color-unfitted-level-0);\n",
              "  border: .5pt solid var(--sklearn-color-unfitted-level-3);\n",
              "}\n",
              "\n",
              ".sk-estimator-doc-link.fitted span {\n",
              "  /* fitted */\n",
              "  background: var(--sklearn-color-fitted-level-0);\n",
              "  border: var(--sklearn-color-fitted-level-3);\n",
              "}\n",
              "\n",
              ".sk-estimator-doc-link:hover span {\n",
              "  display: block;\n",
              "}\n",
              "\n",
              "/* \"?\"-specific style due to the `<a>` HTML tag */\n",
              "\n",
              "#sk-container-id-2 a.estimator_doc_link {\n",
              "  float: right;\n",
              "  font-size: 1rem;\n",
              "  line-height: 1em;\n",
              "  font-family: monospace;\n",
              "  background-color: var(--sklearn-color-background);\n",
              "  border-radius: 1rem;\n",
              "  height: 1rem;\n",
              "  width: 1rem;\n",
              "  text-decoration: none;\n",
              "  /* unfitted */\n",
              "  color: var(--sklearn-color-unfitted-level-1);\n",
              "  border: var(--sklearn-color-unfitted-level-1) 1pt solid;\n",
              "}\n",
              "\n",
              "#sk-container-id-2 a.estimator_doc_link.fitted {\n",
              "  /* fitted */\n",
              "  border: var(--sklearn-color-fitted-level-1) 1pt solid;\n",
              "  color: var(--sklearn-color-fitted-level-1);\n",
              "}\n",
              "\n",
              "/* On hover */\n",
              "#sk-container-id-2 a.estimator_doc_link:hover {\n",
              "  /* unfitted */\n",
              "  background-color: var(--sklearn-color-unfitted-level-3);\n",
              "  color: var(--sklearn-color-background);\n",
              "  text-decoration: none;\n",
              "}\n",
              "\n",
              "#sk-container-id-2 a.estimator_doc_link.fitted:hover {\n",
              "  /* fitted */\n",
              "  background-color: var(--sklearn-color-fitted-level-3);\n",
              "}\n",
              "</style><div id=\"sk-container-id-2\" class=\"sk-top-container\"><div class=\"sk-text-repr-fallback\"><pre>LatentDirichletAllocation(n_components=8, random_state=0)</pre><b>In a Jupyter environment, please rerun this cell to show the HTML representation or trust the notebook. <br />On GitHub, the HTML representation is unable to render, please try loading this page with nbviewer.org.</b></div><div class=\"sk-container\" hidden><div class=\"sk-item\"><div class=\"sk-estimator fitted sk-toggleable\"><input class=\"sk-toggleable__control sk-hidden--visually\" id=\"sk-estimator-id-2\" type=\"checkbox\" checked><label for=\"sk-estimator-id-2\" class=\"sk-toggleable__label fitted sk-toggleable__label-arrow fitted\">&nbsp;&nbsp;LatentDirichletAllocation<a class=\"sk-estimator-doc-link fitted\" rel=\"noreferrer\" target=\"_blank\" href=\"https://scikit-learn.org/1.5/modules/generated/sklearn.decomposition.LatentDirichletAllocation.html\">?<span>Documentation for LatentDirichletAllocation</span></a><span class=\"sk-estimator-doc-link fitted\">i<span>Fitted</span></span></label><div class=\"sk-toggleable__content fitted\"><pre>LatentDirichletAllocation(n_components=8, random_state=0)</pre></div> </div></div></div></div>"
            ]
          },
          "metadata": {},
          "execution_count": 26
        }
      ]
    },
    {
      "cell_type": "code",
      "source": [
        "print(lda.components_.shape)\n",
        "lda.components_"
      ],
      "metadata": {
        "colab": {
          "base_uri": "https://localhost:8080/"
        },
        "id": "b0RaHbvDh3C2",
        "outputId": "e0a152d9-0f56-4d0d-fe84-81dad431701f"
      },
      "execution_count": 27,
      "outputs": [
        {
          "output_type": "stream",
          "name": "stdout",
          "text": [
            "(8, 1000)\n"
          ]
        },
        {
          "output_type": "execute_result",
          "data": {
            "text/plain": [
              "array([[3.60992018e+01, 1.35626798e+02, 2.15751867e+01, ...,\n",
              "        3.02911688e+01, 8.66830093e+01, 6.79285199e+01],\n",
              "       [1.25199920e-01, 1.44401815e+01, 1.25045596e-01, ...,\n",
              "        1.81506995e+02, 1.25097844e-01, 9.39593286e+01],\n",
              "       [3.34762663e+02, 1.25176265e-01, 1.46743299e+02, ...,\n",
              "        1.25105772e-01, 3.63689741e+01, 1.25025218e-01],\n",
              "       ...,\n",
              "       [3.60204965e+01, 2.08640688e+01, 4.29606813e+00, ...,\n",
              "        1.45056650e+01, 8.33854413e+00, 1.55690009e+01],\n",
              "       [1.25128711e-01, 1.25247756e-01, 1.25005143e-01, ...,\n",
              "        9.17278769e+01, 1.25177668e-01, 3.74575887e+01],\n",
              "       [5.49258690e+01, 4.47009532e+00, 9.88524814e+00, ...,\n",
              "        4.87048440e+01, 1.25034678e-01, 1.25074632e-01]])"
            ]
          },
          "metadata": {},
          "execution_count": 27
        }
      ]
    },
    {
      "cell_type": "code",
      "source": [
        "def display_topics(model, feature_names, no_top_words):\n",
        "    for topic_index, topic in enumerate(model.components_):\n",
        "        print('Topic #', topic_index)\n",
        "\n",
        "        # components, array에서 가장 값이 큰 순으로 정렬했을 때, 그 값의 array 인덱스를 반환.\n",
        "        topic_word_indexes = topic.argsort()[::-1 ]\n",
        "        top_indexes=topic_word_indexes[:no_top_words]\n",
        "\n",
        "        # top_indexes대상인 인덱스별로 feature_names에 해당하는 word feature 추출 후 join으로 concat\n",
        "        feature_concat = ' '.join([feature_names[i] for i in top_indexes])\n",
        "        print(feature_concat)\n",
        "# CountVectorizer 객체 내의 전체 word의 명칭을 get_features_names( )를 통해 추출\n",
        "# 메소드 변경으로 get_feature_names_out로 코드 변경\n",
        "feature_names = count_vect.get_feature_names_out()\n",
        "# 토픽별 가장 연관도가 높은 word를 15개만 추출\n",
        "display_topics(lda, feature_names, 15)"
      ],
      "metadata": {
        "colab": {
          "base_uri": "https://localhost:8080/"
        },
        "id": "kmH3LkXKh2-Y",
        "outputId": "b81a0759-073d-45a5-beef-4a6b627b0ec3"
      },
      "execution_count": 29,
      "outputs": [
        {
          "output_type": "stream",
          "name": "stdout",
          "text": [
            "Topic # 0\n",
            "year 10 game medical health team 12 20 disease cancer 1993 games years patients good\n",
            "Topic # 1\n",
            "don just like know people said think time ve didn right going say ll way\n",
            "Topic # 2\n",
            "image file jpeg program gif images output format files color entry 00 use bit 03\n",
            "Topic # 3\n",
            "like know don think use does just good time book read information people used post\n",
            "Topic # 4\n",
            "armenian israel armenians jews turkish people israeli jewish government war dos dos turkey arab armenia 000\n",
            "Topic # 5\n",
            "edu com available graphics ftp data pub motif mail widget software mit information version sun\n",
            "Topic # 6\n",
            "god people jesus church believe christ does christian say think christians bible faith sin life\n",
            "Topic # 7\n",
            "use dos thanks windows using window does display help like problem server need know run\n"
          ]
        }
      ]
    },
    {
      "cell_type": "markdown",
      "source": [
        "# 8-8. 코사인 유사도"
      ],
      "metadata": {
        "id": "26K2HKYVamYC"
      }
    },
    {
      "cell_type": "code",
      "source": [
        "import numpy as np\n",
        "\n",
        "def cos_similarity(v1, v2):\n",
        "    dot_product = np.dot(v1, v2)\n",
        "    l2_norm = (np.sqrt(sum(np.square(v1))) * np.sqrt(sum(np.square(v2))))\n",
        "    similarity = dot_product / l2_norm\n",
        "\n",
        "    return similarity"
      ],
      "metadata": {
        "id": "b3HxepElaw7w"
      },
      "execution_count": 30,
      "outputs": []
    },
    {
      "cell_type": "code",
      "source": [
        "from sklearn.feature_extraction.text import TfidfVectorizer\n",
        "\n",
        "doc_list = ['if you take the blue pill, the story ends' ,\n",
        "            'if you take the red pill, you stay in Wonderland',\n",
        "            'if you take the red pill, I show you how deep the rabbit hole goes']\n",
        "\n",
        "tfidf_vect_simple = TfidfVectorizer()\n",
        "feature_vect_simple = tfidf_vect_simple.fit_transform(doc_list)\n",
        "print(feature_vect_simple.shape)"
      ],
      "metadata": {
        "colab": {
          "base_uri": "https://localhost:8080/"
        },
        "id": "XndQFiwGaw5S",
        "outputId": "45da5577-772e-4e9a-99d0-9d560d62ee6e"
      },
      "execution_count": 31,
      "outputs": [
        {
          "output_type": "stream",
          "name": "stdout",
          "text": [
            "(3, 18)\n"
          ]
        }
      ]
    },
    {
      "cell_type": "code",
      "source": [
        "#TFidfVectorizer로 transform()한 결과는 희소 행렬이므로 밀집 행렬로 변환.\n",
        "feature_vect_dense = feature_vect_simple.todense()\n",
        "\n",
        "#첫번째 문장과 두번째 문장의 피처 벡터 추출\n",
        "vect1 = np.array(feature_vect_dense[0]).reshape(-1,)\n",
        "vect2 = np.array(feature_vect_dense[1]).reshape(-1,)\n",
        "\n",
        "#첫번째 문장과 두번째 문장의 피처 벡터로 두개 문장의 코사인 유사도 추출\n",
        "similarity_simple = cos_similarity(vect1, vect2 )\n",
        "print('문장 1, 문장 2 Cosine 유사도: {0:.3f}'.format(similarity_simple))"
      ],
      "metadata": {
        "colab": {
          "base_uri": "https://localhost:8080/"
        },
        "id": "o_baR8eQaw0s",
        "outputId": "cc737ebc-eee4-430f-e215-b96cf658dc46"
      },
      "execution_count": 32,
      "outputs": [
        {
          "output_type": "stream",
          "name": "stdout",
          "text": [
            "문장 1, 문장 2 Cosine 유사도: 0.402\n"
          ]
        }
      ]
    },
    {
      "cell_type": "code",
      "source": [
        "vect1 = np.array(feature_vect_dense[0]).reshape(-1,)\n",
        "vect3 = np.array(feature_vect_dense[2]).reshape(-1,)\n",
        "similarity_simple = cos_similarity(vect1, vect3 )\n",
        "print('문장 1, 문장 3 Cosine 유사도: {0:.3f}'.format(similarity_simple))\n",
        "\n",
        "vect2 = np.array(feature_vect_dense[1]).reshape(-1,)\n",
        "vect3 = np.array(feature_vect_dense[2]).reshape(-1,)\n",
        "similarity_simple = cos_similarity(vect2, vect3 )\n",
        "print('문장 2, 문장 3 Cosine 유사도: {0:.3f}'.format(similarity_simple))"
      ],
      "metadata": {
        "colab": {
          "base_uri": "https://localhost:8080/"
        },
        "id": "blvbL0dmawyO",
        "outputId": "a3007733-e5c1-4f96-a817-238875773e9b"
      },
      "execution_count": 33,
      "outputs": [
        {
          "output_type": "stream",
          "name": "stdout",
          "text": [
            "문장 1, 문장 3 Cosine 유사도: 0.404\n",
            "문장 2, 문장 3 Cosine 유사도: 0.456\n"
          ]
        }
      ]
    },
    {
      "cell_type": "code",
      "source": [
        "from sklearn.metrics.pairwise import cosine_similarity\n",
        "\n",
        "similarity_simple_pair = cosine_similarity(feature_vect_simple[0] , feature_vect_simple)\n",
        "print(similarity_simple_pair)"
      ],
      "metadata": {
        "colab": {
          "base_uri": "https://localhost:8080/"
        },
        "id": "wJ3MWb-5awv2",
        "outputId": "bd7b231d-e690-4010-f34f-22a9eb5abe6b"
      },
      "execution_count": 34,
      "outputs": [
        {
          "output_type": "stream",
          "name": "stdout",
          "text": [
            "[[1.         0.40207758 0.40425045]]\n"
          ]
        }
      ]
    },
    {
      "cell_type": "code",
      "source": [
        "from sklearn.metrics.pairwise import cosine_similarity\n",
        "\n",
        "similarity_simple_pair = cosine_similarity(feature_vect_simple[0] , feature_vect_simple[1:])\n",
        "print(similarity_simple_pair)"
      ],
      "metadata": {
        "colab": {
          "base_uri": "https://localhost:8080/"
        },
        "id": "7vfxLS_VawmQ",
        "outputId": "b61f0d59-dcc7-4c92-ab46-c9f4ee6d67ff"
      },
      "execution_count": 35,
      "outputs": [
        {
          "output_type": "stream",
          "name": "stdout",
          "text": [
            "[[0.40207758 0.40425045]]\n"
          ]
        }
      ]
    },
    {
      "cell_type": "code",
      "source": [
        "similarity_simple_pair = cosine_similarity(feature_vect_simple , feature_vect_simple)\n",
        "print(similarity_simple_pair)\n",
        "print('shape:',similarity_simple_pair.shape)"
      ],
      "metadata": {
        "colab": {
          "base_uri": "https://localhost:8080/"
        },
        "id": "IG9gfkC-awja",
        "outputId": "8a2d2550-894d-4a42-ba89-9f9336b4046f"
      },
      "execution_count": 36,
      "outputs": [
        {
          "output_type": "stream",
          "name": "stdout",
          "text": [
            "[[1.         0.40207758 0.40425045]\n",
            " [0.40207758 1.         0.45647296]\n",
            " [0.40425045 0.45647296 1.        ]]\n",
            "shape: (3, 3)\n"
          ]
        }
      ]
    },
    {
      "cell_type": "markdown",
      "source": [
        "## Opinion Review 데이터 세트를 이용한 문서 유사도 측정"
      ],
      "metadata": {
        "id": "L7wMPZC4SL5B"
      }
    },
    {
      "cell_type": "code",
      "source": [
        "from nltk.stem import WordNetLemmatizer\n",
        "import nltk\n",
        "import string\n",
        "\n",
        "remove_punct_dict = dict((ord(punct), None) for punct in string.punctuation)\n",
        "lemmar = WordNetLemmatizer()\n",
        "\n",
        "# 입력으로 들어온 token단어들에 대해서 lemmatization 어근 변환.\n",
        "def LemTokens(tokens):\n",
        "    return [lemmar.lemmatize(token) for token in tokens]\n",
        "\n",
        "# TfidfVectorizer 객체 생성 시 tokenizer인자로 해당 함수를 설정하여 lemmatization 적용\n",
        "# 입력으로 문장을 받아서 stop words 제거-> 소문자 변환 -> 단어 토큰화 -> lemmatization 어근 변환.\n",
        "def LemNormalize(text):\n",
        "    return LemTokens(nltk.word_tokenize(text.lower().translate(remove_punct_dict)))"
      ],
      "metadata": {
        "id": "PfxZ9X4DbDJ3"
      },
      "execution_count": 37,
      "outputs": []
    },
    {
      "cell_type": "code",
      "source": [
        "# 아래 코드 셀 오류로 인해 추가\n",
        "import nltk\n",
        "nltk.download('punkt')"
      ],
      "metadata": {
        "colab": {
          "base_uri": "https://localhost:8080/"
        },
        "id": "i4evBCrlpupJ",
        "outputId": "95f032a1-8720-48aa-b5bf-c4aa8d519161"
      },
      "execution_count": 43,
      "outputs": [
        {
          "output_type": "stream",
          "name": "stderr",
          "text": [
            "[nltk_data] Downloading package punkt to /root/nltk_data...\n",
            "[nltk_data]   Unzipping tokenizers/punkt.zip.\n"
          ]
        },
        {
          "output_type": "execute_result",
          "data": {
            "text/plain": [
              "True"
            ]
          },
          "metadata": {},
          "execution_count": 43
        }
      ]
    },
    {
      "cell_type": "code",
      "source": [
        "nltk.download('wordnet')"
      ],
      "metadata": {
        "colab": {
          "base_uri": "https://localhost:8080/"
        },
        "id": "EK2udsrLpzuK",
        "outputId": "96f0e964-9af7-47df-80ee-160a7212c3e2"
      },
      "execution_count": 45,
      "outputs": [
        {
          "output_type": "stream",
          "name": "stderr",
          "text": [
            "[nltk_data] Downloading package wordnet to /root/nltk_data...\n"
          ]
        },
        {
          "output_type": "execute_result",
          "data": {
            "text/plain": [
              "True"
            ]
          },
          "metadata": {},
          "execution_count": 45
        }
      ]
    },
    {
      "cell_type": "code",
      "source": [
        "import pandas as pd\n",
        "import glob, os\n",
        "from sklearn.feature_extraction.text import TfidfVectorizer\n",
        "from sklearn.cluster import KMeans\n",
        "import warnings\n",
        "warnings.filterwarnings('ignore')\n",
        "\n",
        "path = \"/content/gdrive/My Drive/EuronData/topics\"\n",
        "\n",
        "# r_path = r'OpinosisDataset1.0\\topics'\n",
        "all_files = glob.glob(os.path.join(path, \"*.data\"))\n",
        "filename_list = []\n",
        "opinion_text = []\n",
        "\n",
        "for file_ in all_files:\n",
        "    df = pd.read_table(file_,index_col=None, header=0,encoding='latin1')\n",
        "    filename_ = file_.split('\\\\')[-1]\n",
        "    filename = filename_.split('.')[0][42:]\n",
        "    filename_list.append(filename)\n",
        "    opinion_text.append(df.to_string())\n",
        "\n",
        "document_df = pd.DataFrame({'filename':filename_list, 'opinion_text':opinion_text})\n",
        "\n",
        "tfidf_vect = TfidfVectorizer(tokenizer=LemNormalize, stop_words='english' , \\\n",
        "                             ngram_range=(1,2), min_df=0.05, max_df=0.85 )\n",
        "feature_vect = tfidf_vect.fit_transform(document_df['opinion_text'])\n",
        "\n",
        "km_cluster = KMeans(n_clusters=3, max_iter=10000, random_state=0)\n",
        "km_cluster.fit(feature_vect)\n",
        "cluster_label = km_cluster.labels_\n",
        "cluster_centers = km_cluster.cluster_centers_\n",
        "document_df['cluster_label'] = cluster_label"
      ],
      "metadata": {
        "id": "2tZFF_mibDIK"
      },
      "execution_count": 46,
      "outputs": []
    },
    {
      "cell_type": "code",
      "source": [
        "from sklearn.metrics.pairwise import cosine_similarity\n",
        "\n",
        "# cluster_label=0인 데이터는 호텔로 클러스터링된 데이터임. DataFrame에서 해당 인덱스를 추출\n",
        "hotel_indexes = document_df[document_df['cluster_label']==0].index\n",
        "print('호텔로 클러스터링 된 문서들의 DataFrame Index:', hotel_indexes)\n",
        "\n",
        "# 호텔로 클러스터링된 데이터 중 첫번째 문서를 추출하여 파일명 표시.\n",
        "comparison_docname = document_df.iloc[hotel_indexes[0]]['filename']\n",
        "print('##### 비교 기준 문서명 ',comparison_docname,' 와 타 문서 유사도######')\n",
        "\n",
        "''' document_df에서 추출한 Index 객체를 feature_vect로 입력하여 호텔 클러스터링된 feature_vect 추출\n",
        "이를 이용하여 호텔로 클러스터링된 문서 중 첫번째 문서와 다른 문서간의 코사인 유사도 측정.'''\n",
        "similarity_pair = cosine_similarity(feature_vect[hotel_indexes[0]] , feature_vect[hotel_indexes])\n",
        "print(similarity_pair)"
      ],
      "metadata": {
        "colab": {
          "base_uri": "https://localhost:8080/"
        },
        "id": "-nOrtwn-bDF2",
        "outputId": "d2330357-3156-4adc-b722-3f4041636b1b"
      },
      "execution_count": 47,
      "outputs": [
        {
          "output_type": "stream",
          "name": "stdout",
          "text": [
            "호텔로 클러스터링 된 문서들의 DataFrame Index: Index([1, 5, 17, 23, 24, 25, 27, 39, 44, 49], dtype='int64')\n",
            "##### 비교 기준 문서명  comfort_toyota_camry_2007  와 타 문서 유사도######\n",
            "[[1.         0.83969704 0.24626359 0.27273923 0.27804647 0.29443403\n",
            "  0.24145336 0.51181434 0.22182484 0.07459289]]\n"
          ]
        }
      ]
    },
    {
      "cell_type": "code",
      "source": [
        "import seaborn as sns\n",
        "import numpy as np\n",
        "import matplotlib.pyplot as plt\n",
        "%matplotlib inline\n",
        "\n",
        "# argsort()를 이용하여 앞예제의 첫번째 문서와 타 문서간 유사도가 큰 순으로 정렬한 인덱스 반환하되 자기 자신은 제외.\n",
        "sorted_index = similarity_pair.argsort()[:,::-1]\n",
        "sorted_index = sorted_index[:, 1:]\n",
        "\n",
        "# 유사도가 큰 순으로 hotel_indexes를 추출하여 재 정렬.\n",
        "hotel_sorted_indexes = hotel_indexes[sorted_index.reshape(-1)]\n",
        "\n",
        "# 유사도가 큰 순으로 유사도 값을 재정렬하되 자기 자신은 제외\n",
        "hotel_1_sim_value = np.sort(similarity_pair.reshape(-1))[::-1]\n",
        "hotel_1_sim_value = hotel_1_sim_value[1:]\n",
        "\n",
        "# 유사도가 큰 순으로 정렬된 인덱스와 유사도값을 이용하여 파일명과 유사도값을 Seaborn 막대 그래프로 시각화\n",
        "hotel_1_sim_df = pd.DataFrame()\n",
        "hotel_1_sim_df['filename'] = document_df.iloc[hotel_sorted_indexes]['filename']\n",
        "hotel_1_sim_df['similarity'] = hotel_1_sim_value\n",
        "print('가장 유사도가 큰 파일명 및 유사도: \\n', hotel_1_sim_df.iloc[0, :])\n",
        "\n",
        "sns.barplot(x='similarity', y='filename',data=hotel_1_sim_df)\n",
        "plt.title(comparison_docname)"
      ],
      "metadata": {
        "colab": {
          "base_uri": "https://localhost:8080/",
          "height": 563
        },
        "id": "JVzJfQ4xbDDe",
        "outputId": "af80b871-dbaa-44b9-e4ff-6d69974b77ca"
      },
      "execution_count": 48,
      "outputs": [
        {
          "output_type": "stream",
          "name": "stdout",
          "text": [
            "가장 유사도가 큰 파일명 및 유사도: \n",
            " filename      comfort_honda_accord_2008\n",
            "similarity                     0.839697\n",
            "Name: 5, dtype: object\n"
          ]
        },
        {
          "output_type": "execute_result",
          "data": {
            "text/plain": [
              "Text(0.5, 1.0, 'comfort_toyota_camry_2007')"
            ]
          },
          "metadata": {},
          "execution_count": 48
        },
        {
          "output_type": "display_data",
          "data": {
            "text/plain": [
              "<Figure size 640x480 with 1 Axes>"
            ],
            "image/png": "[encoded data removed]"
          },
          "metadata": {}
        }
      ]
    },
    {
      "cell_type": "markdown",
      "source": [
        "**[코사인 유사도]**  \n",
        ": 주로 문서 간의 유사도를 측정할 때 사용하는 방법  \n",
        "아래 벡터간의 사잇각을 보면,\n",
        "- 관련성이 있는 벡터일 수록 그 사이의 각이 작고,\n",
        "- 직각이면 관련성이 없고,\n",
        "- 아예 반대 관계에 있다면 정 반대 방향을 가리키는 것을 볼 수 있다.  \n",
        "\n",
        "=> 두 벡터 사이의 각도를 계산한다면 두 벡터가 얼마나 유사한지 알 수 있다!  \n"
      ],
      "metadata": {
        "id": "4rxe8gfXuWOx"
      }
    },
    {
      "cell_type": "markdown",
      "source": [
        "![image.png](data:image/png;base64,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)"
      ],
      "metadata": {
        "id": "xLGSkzVdsvex"
      }
    },
    {
      "cell_type": "markdown",
      "source": [
        "그래서 벡터 간의 내적 식을 떠올려보면, 두 벡터 A, B와 그 사이의 각을 theta라고 할 때 다음의 식이 성립한다.   \n",
        "$ A*B = \\|A\\| \\|B\\| cos\\theta$  \n",
        "-> 위의 식을 cos theta에 대해 정리하면 아래와 같은 식을 얻을 수 있다~"
      ],
      "metadata": {
        "id": "bxvmLxPPvE_O"
      }
    },
    {
      "cell_type": "markdown",
      "source": [
        "\n",
        "![image.png](data:image/png;base64,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)\n",
        "\n"
      ],
      "metadata": {
        "id": "_yWJENV6sQ2O"
      }
    },
    {
      "cell_type": "markdown",
      "source": [
        "문서를 피처 벡터화 할 경우 차원이 매우 많은 희소행렬이 될 가능성이 커짐  \n",
        "-> 유클리드 거리 기반 지표와 같이 문서 벡터 크이에 기반한 유사도 지표는 정확도가 떨어지기 쉬움  \n",
        "(차원이 커질수록 그 크기가 기하급수적으로 커지거나 그러니까)  \n",
        "\n",
        "\n",
        "sklearn의 경우 `from sklearn.metrics.pairwise import cosine_similarity` 코드로 불러와서 활용 가능!"
      ],
      "metadata": {
        "id": "Y2sJhClOwMgW"
      }
    },
    {
      "cell_type": "markdown",
      "source": [
        "# 8-9. 한글 텍스트 처리 - 네이버 영화 평점 감상 분석"
      ],
      "metadata": {
        "id": "w7g11In1SYef"
      }
    },
    {
      "cell_type": "code",
      "execution_count": 1,
      "metadata": {
        "colab": {
          "base_uri": "https://localhost:8080/"
        },
        "id": "6OPNr5Zxgl6c",
        "outputId": "d4e82e95-2b7c-4f93-8c8d-d7bc62153891"
      },
      "outputs": [
        {
          "output_type": "stream",
          "name": "stdout",
          "text": [
            "Mounted at /content/gdrive/\n"
          ]
        }
      ],
      "source": [
        "#디렉터리 설정\n",
        "from google.colab import drive\n",
        "drive.mount('/content/gdrive/')\n",
        "\n",
        "path = \"/content/gdrive/My Drive/EuronData/\""
      ]
    },
    {
      "cell_type": "code",
      "source": [
        "!pip install konlpy"
      ],
      "metadata": {
        "colab": {
          "base_uri": "https://localhost:8080/"
        },
        "id": "6adKijPXSbcO",
        "outputId": "d1ecfa02-81e9-4fee-ed34-c1ac0b045dcc"
      },
      "execution_count": 2,
      "outputs": [
        {
          "output_type": "stream",
          "name": "stdout",
          "text": [
            "Collecting konlpy\n",
            "  Downloading konlpy-0.6.0-py2.py3-none-any.whl.metadata (1.9 kB)\n",
            "Collecting JPype1>=0.7.0 (from konlpy)\n",
            "  Downloading JPype1-1.5.0-cp310-cp310-manylinux_2_17_x86_64.manylinux2014_x86_64.whl.metadata (4.9 kB)\n",
            "Requirement already satisfied: lxml>=4.1.0 in /usr/local/lib/python3.10/dist-packages (from konlpy) (4.9.4)\n",
            "Requirement already satisfied: numpy>=1.6 in /usr/local/lib/python3.10/dist-packages (from konlpy) (1.26.4)\n",
            "Requirement already satisfied: packaging in /usr/local/lib/python3.10/dist-packages (from JPype1>=0.7.0->konlpy) (24.1)\n",
            "Downloading konlpy-0.6.0-py2.py3-none-any.whl (19.4 MB)\n",
            "\u001b[2K   \u001b[90m━━━━━━━━━━━━━━━━━━━━━━━━━━━━━━━━━━━━━━━━\u001b[0m \u001b[32m19.4/19.4 MB\u001b[0m \u001b[31m19.0 MB/s\u001b[0m eta \u001b[36m0:00:00\u001b[0m\n",
            "\u001b[?25hDownloading JPype1-1.5.0-cp310-cp310-manylinux_2_17_x86_64.manylinux2014_x86_64.whl (488 kB)\n",
            "\u001b[2K   \u001b[90m━━━━━━━━━━━━━━━━━━━━━━━━━━━━━━━━━━━━━━━━\u001b[0m \u001b[32m488.6/488.6 kB\u001b[0m \u001b[31m18.8 MB/s\u001b[0m eta \u001b[36m0:00:00\u001b[0m\n",
            "\u001b[?25hInstalling collected packages: JPype1, konlpy\n",
            "Successfully installed JPype1-1.5.0 konlpy-0.6.0\n"
          ]
        }
      ]
    },
    {
      "cell_type": "code",
      "source": [
        "import pandas as pd\n",
        "\n",
        "train_df = pd.read_csv(path + 'ratings_train.txt', sep = '\\t')\n",
        "train_df.head(3)"
      ],
      "metadata": {
        "colab": {
          "base_uri": "https://localhost:8080/",
          "height": 143
        },
        "id": "Sofl-0TvVinq",
        "outputId": "01e2e2c3-ce5e-4f9a-c92a-e6a8ad5586de"
      },
      "execution_count": 4,
      "outputs": [
        {
          "output_type": "execute_result",
          "data": {
            "text/plain": [
              "         id                           document  label\n",
              "0   9976970                아 더빙.. 진짜 짜증나네요 목소리      0\n",
              "1   3819312  흠...포스터보고 초딩영화줄....오버연기조차 가볍지 않구나      1\n",
              "2  10265843                  너무재밓었다그래서보는것을추천한다      0"
            ],
            "text/html": [
              "\n",
              "  <div id=\"df-851f6b72-b2a3-47be-9f37-a4f93d85e41a\" class=\"colab-df-container\">\n",
              "    <div>\n",
              "<style scoped>\n",
              "    .dataframe tbody tr th:only-of-type {\n",
              "        vertical-align: middle;\n",
              "    }\n",
              "\n",
              "    .dataframe tbody tr th {\n",
              "        vertical-align: top;\n",
              "    }\n",
              "\n",
              "    .dataframe thead th {\n",
              "        text-align: right;\n",
              "    }\n",
              "</style>\n",
              "<table border=\"1\" class=\"dataframe\">\n",
              "  <thead>\n",
              "    <tr style=\"text-align: right;\">\n",
              "      <th></th>\n",
              "      <th>id</th>\n",
              "      <th>document</th>\n",
              "      <th>label</th>\n",
              "    </tr>\n",
              "  </thead>\n",
              "  <tbody>\n",
              "    <tr>\n",
              "      <th>0</th>\n",
              "      <td>9976970</td>\n",
              "      <td>아 더빙.. 진짜 짜증나네요 목소리</td>\n",
              "      <td>0</td>\n",
              "    </tr>\n",
              "    <tr>\n",
              "      <th>1</th>\n",
              "      <td>3819312</td>\n",
              "      <td>흠...포스터보고 초딩영화줄....오버연기조차 가볍지 않구나</td>\n",
              "      <td>1</td>\n",
              "    </tr>\n",
              "    <tr>\n",
              "      <th>2</th>\n",
              "      <td>10265843</td>\n",
              "      <td>너무재밓었다그래서보는것을추천한다</td>\n",
              "      <td>0</td>\n",
              "    </tr>\n",
              "  </tbody>\n",
              "</table>\n",
              "</div>\n",
              "    <div class=\"colab-df-buttons\">\n",
              "\n",
              "  <div class=\"colab-df-container\">\n",
              "    <button class=\"colab-df-convert\" onclick=\"convertToInteractive('df-851f6b72-b2a3-47be-9f37-a4f93d85e41a')\"\n",
              "            title=\"Convert this dataframe to an interactive table.\"\n",
              "            style=\"display:none;\">\n",
              "\n",
              "  <svg xmlns=\"http://www.w3.org/2000/svg\" height=\"24px\" viewBox=\"0 -960 960 960\">\n",
              "    <path d=\"M120-120v-720h720v720H120Zm60-500h600v-160H180v160Zm220 220h160v-160H400v160Zm0 220h160v-160H400v160ZM180-400h160v-160H180v160Zm440 0h160v-160H620v160ZM180-180h160v-160H180v160Zm440 0h160v-160H620v160Z\"/>\n",
              "  </svg>\n",
              "    </button>\n",
              "\n",
              "  <style>\n",
              "    .colab-df-container {\n",
              "      display:flex;\n",
              "      gap: 12px;\n",
              "    }\n",
              "\n",
              "    .colab-df-convert {\n",
              "      background-color: #E8F0FE;\n",
              "      border: none;\n",
              "      border-radius: 50%;\n",
              "      cursor: pointer;\n",
              "      display: none;\n",
              "      fill: #1967D2;\n",
              "      height: 32px;\n",
              "      padding: 0 0 0 0;\n",
              "      width: 32px;\n",
              "    }\n",
              "\n",
              "    .colab-df-convert:hover {\n",
              "      background-color: #E2EBFA;\n",
              "      box-shadow: 0px 1px 2px rgba(60, 64, 67, 0.3), 0px 1px 3px 1px rgba(60, 64, 67, 0.15);\n",
              "      fill: #174EA6;\n",
              "    }\n",
              "\n",
              "    .colab-df-buttons div {\n",
              "      margin-bottom: 4px;\n",
              "    }\n",
              "\n",
              "    [theme=dark] .colab-df-convert {\n",
              "      background-color: #3B4455;\n",
              "      fill: #D2E3FC;\n",
              "    }\n",
              "\n",
              "    [theme=dark] .colab-df-convert:hover {\n",
              "      background-color: #434B5C;\n",
              "      box-shadow: 0px 1px 3px 1px rgba(0, 0, 0, 0.15);\n",
              "      filter: drop-shadow(0px 1px 2px rgba(0, 0, 0, 0.3));\n",
              "      fill: #FFFFFF;\n",
              "    }\n",
              "  </style>\n",
              "\n",
              "    <script>\n",
              "      const buttonEl =\n",
              "        document.querySelector('#df-851f6b72-b2a3-47be-9f37-a4f93d85e41a button.colab-df-convert');\n",
              "      buttonEl.style.display =\n",
              "        google.colab.kernel.accessAllowed ? 'block' : 'none';\n",
              "\n",
              "      async function convertToInteractive(key) {\n",
              "        const element = document.querySelector('#df-851f6b72-b2a3-47be-9f37-a4f93d85e41a');\n",
              "        const dataTable =\n",
              "          await google.colab.kernel.invokeFunction('convertToInteractive',\n",
              "                                                    [key], {});\n",
              "        if (!dataTable) return;\n",
              "\n",
              "        const docLinkHtml = 'Like what you see? Visit the ' +\n",
              "          '<a target=\"_blank\" href=https://colab.research.google.com/notebooks/data_table.ipynb>data table notebook</a>'\n",
              "          + ' to learn more about interactive tables.';\n",
              "        element.innerHTML = '';\n",
              "        dataTable['output_type'] = 'display_data';\n",
              "        await google.colab.output.renderOutput(dataTable, element);\n",
              "        const docLink = document.createElement('div');\n",
              "        docLink.innerHTML = docLinkHtml;\n",
              "        element.appendChild(docLink);\n",
              "      }\n",
              "    </script>\n",
              "  </div>\n",
              "\n",
              "\n",
              "<div id=\"df-7a73cb8c-b338-4116-afb2-85b2c3e6f3aa\">\n",
              "  <button class=\"colab-df-quickchart\" onclick=\"quickchart('df-7a73cb8c-b338-4116-afb2-85b2c3e6f3aa')\"\n",
              "            title=\"Suggest charts\"\n",
              "            style=\"display:none;\">\n",
              "\n",
              "<svg xmlns=\"http://www.w3.org/2000/svg\" height=\"24px\"viewBox=\"0 0 24 24\"\n",
              "     width=\"24px\">\n",
              "    <g>\n",
              "        <path d=\"M19 3H5c-1.1 0-2 .9-2 2v14c0 1.1.9 2 2 2h14c1.1 0 2-.9 2-2V5c0-1.1-.9-2-2-2zM9 17H7v-7h2v7zm4 0h-2V7h2v10zm4 0h-2v-4h2v4z\"/>\n",
              "    </g>\n",
              "</svg>\n",
              "  </button>\n",
              "\n",
              "<style>\n",
              "  .colab-df-quickchart {\n",
              "      --bg-color: #E8F0FE;\n",
              "      --fill-color: #1967D2;\n",
              "      --hover-bg-color: #E2EBFA;\n",
              "      --hover-fill-color: #174EA6;\n",
              "      --disabled-fill-color: #AAA;\n",
              "      --disabled-bg-color: #DDD;\n",
              "  }\n",
              "\n",
              "  [theme=dark] .colab-df-quickchart {\n",
              "      --bg-color: #3B4455;\n",
              "      --fill-color: #D2E3FC;\n",
              "      --hover-bg-color: #434B5C;\n",
              "      --hover-fill-color: #FFFFFF;\n",
              "      --disabled-bg-color: #3B4455;\n",
              "      --disabled-fill-color: #666;\n",
              "  }\n",
              "\n",
              "  .colab-df-quickchart {\n",
              "    background-color: var(--bg-color);\n",
              "    border: none;\n",
              "    border-radius: 50%;\n",
              "    cursor: pointer;\n",
              "    display: none;\n",
              "    fill: var(--fill-color);\n",
              "    height: 32px;\n",
              "    padding: 0;\n",
              "    width: 32px;\n",
              "  }\n",
              "\n",
              "  .colab-df-quickchart:hover {\n",
              "    background-color: var(--hover-bg-color);\n",
              "    box-shadow: 0 1px 2px rgba(60, 64, 67, 0.3), 0 1px 3px 1px rgba(60, 64, 67, 0.15);\n",
              "    fill: var(--button-hover-fill-color);\n",
              "  }\n",
              "\n",
              "  .colab-df-quickchart-complete:disabled,\n",
              "  .colab-df-quickchart-complete:disabled:hover {\n",
              "    background-color: var(--disabled-bg-color);\n",
              "    fill: var(--disabled-fill-color);\n",
              "    box-shadow: none;\n",
              "  }\n",
              "\n",
              "  .colab-df-spinner {\n",
              "    border: 2px solid var(--fill-color);\n",
              "    border-color: transparent;\n",
              "    border-bottom-color: var(--fill-color);\n",
              "    animation:\n",
              "      spin 1s steps(1) infinite;\n",
              "  }\n",
              "\n",
              "  @keyframes spin {\n",
              "    0% {\n",
              "      border-color: transparent;\n",
              "      border-bottom-color: var(--fill-color);\n",
              "      border-left-color: var(--fill-color);\n",
              "    }\n",
              "    20% {\n",
              "      border-color: transparent;\n",
              "      border-left-color: var(--fill-color);\n",
              "      border-top-color: var(--fill-color);\n",
              "    }\n",
              "    30% {\n",
              "      border-color: transparent;\n",
              "      border-left-color: var(--fill-color);\n",
              "      border-top-color: var(--fill-color);\n",
              "      border-right-color: var(--fill-color);\n",
              "    }\n",
              "    40% {\n",
              "      border-color: transparent;\n",
              "      border-right-color: var(--fill-color);\n",
              "      border-top-color: var(--fill-color);\n",
              "    }\n",
              "    60% {\n",
              "      border-color: transparent;\n",
              "      border-right-color: var(--fill-color);\n",
              "    }\n",
              "    80% {\n",
              "      border-color: transparent;\n",
              "      border-right-color: var(--fill-color);\n",
              "      border-bottom-color: var(--fill-color);\n",
              "    }\n",
              "    90% {\n",
              "      border-color: transparent;\n",
              "      border-bottom-color: var(--fill-color);\n",
              "    }\n",
              "  }\n",
              "</style>\n",
              "\n",
              "  <script>\n",
              "    async function quickchart(key) {\n",
              "      const quickchartButtonEl =\n",
              "        document.querySelector('#' + key + ' button');\n",
              "      quickchartButtonEl.disabled = true;  // To prevent multiple clicks.\n",
              "      quickchartButtonEl.classList.add('colab-df-spinner');\n",
              "      try {\n",
              "        const charts = await google.colab.kernel.invokeFunction(\n",
              "            'suggestCharts', [key], {});\n",
              "      } catch (error) {\n",
              "        console.error('Error during call to suggestCharts:', error);\n",
              "      }\n",
              "      quickchartButtonEl.classList.remove('colab-df-spinner');\n",
              "      quickchartButtonEl.classList.add('colab-df-quickchart-complete');\n",
              "    }\n",
              "    (() => {\n",
              "      let quickchartButtonEl =\n",
              "        document.querySelector('#df-7a73cb8c-b338-4116-afb2-85b2c3e6f3aa button');\n",
              "      quickchartButtonEl.style.display =\n",
              "        google.colab.kernel.accessAllowed ? 'block' : 'none';\n",
              "    })();\n",
              "  </script>\n",
              "</div>\n",
              "\n",
              "    </div>\n",
              "  </div>\n"
            ],
            "application/vnd.google.colaboratory.intrinsic+json": {
              "type": "dataframe",
              "variable_name": "train_df"
            }
          },
          "metadata": {},
          "execution_count": 4
        }
      ]
    },
    {
      "cell_type": "code",
      "source": [
        "train_df['label'].value_counts()"
      ],
      "metadata": {
        "colab": {
          "base_uri": "https://localhost:8080/",
          "height": 178
        },
        "id": "YghcO1nwVtGV",
        "outputId": "e7b4de1b-c1c6-45d6-8037-09c4079cafe3"
      },
      "execution_count": 5,
      "outputs": [
        {
          "output_type": "execute_result",
          "data": {
            "text/plain": [
              "label\n",
              "0    75173\n",
              "1    74827\n",
              "Name: count, dtype: int64"
            ],
            "text/html": [
              "<div>\n",
              "<style scoped>\n",
              "    .dataframe tbody tr th:only-of-type {\n",
              "        vertical-align: middle;\n",
              "    }\n",
              "\n",
              "    .dataframe tbody tr th {\n",
              "        vertical-align: top;\n",
              "    }\n",
              "\n",
              "    .dataframe thead th {\n",
              "        text-align: right;\n",
              "    }\n",
              "</style>\n",
              "<table border=\"1\" class=\"dataframe\">\n",
              "  <thead>\n",
              "    <tr style=\"text-align: right;\">\n",
              "      <th></th>\n",
              "      <th>count</th>\n",
              "    </tr>\n",
              "    <tr>\n",
              "      <th>label</th>\n",
              "      <th></th>\n",
              "    </tr>\n",
              "  </thead>\n",
              "  <tbody>\n",
              "    <tr>\n",
              "      <th>0</th>\n",
              "      <td>75173</td>\n",
              "    </tr>\n",
              "    <tr>\n",
              "      <th>1</th>\n",
              "      <td>74827</td>\n",
              "    </tr>\n",
              "  </tbody>\n",
              "</table>\n",
              "</div><br><label><b>dtype:</b> int64</label>"
            ]
          },
          "metadata": {},
          "execution_count": 5
        }
      ]
    },
    {
      "cell_type": "code",
      "source": [
        "import re\n",
        "\n",
        "train_df = train_df.fillna(' ')\n",
        "# 정규 표현식을 이용해 숫자를 공백으로 변경 (정규표현식으로 \\d는 숫자를 의미)\n",
        "train_df['document'] = train_df['document'].apply(lambda x: re.sub(r\"\\d+\", \" \", x))\n",
        "\n",
        "# 테스트 데이터 세트를 도링하고 동일하게 Null 및 숫자를 공백으로 변환\n",
        "test_df = pd.read_csv(path + 'ratings_test.txt', sep = '\\t')\n",
        "test_df = test_df.fillna(' ')\n",
        "test_df['document'] = test_df['document'].apply(lambda x: re.sub(r\"\\d+\", \" \", x))\n",
        "\n",
        "#id 칼럼 삭제 수행\n",
        "train_df.drop('id', axis = 1, inplace = True)\n",
        "test_df.drop('id', axis = 1, inplace = True)"
      ],
      "metadata": {
        "id": "FX82-BKwVtCb"
      },
      "execution_count": 7,
      "outputs": []
    },
    {
      "cell_type": "code",
      "source": [
        "from konlpy.tag import Twitter\n",
        "\n",
        "twitter = Twitter()\n",
        "def tw_Tokenizer(text):\n",
        "    #입력인자로 들어온 텍스트를 형태소 단어로 토큰화해 리스트 형태로 반환\n",
        "    tokens_ko = twitter.morphs(text)\n",
        "    return tokens_ko"
      ],
      "metadata": {
        "colab": {
          "base_uri": "https://localhost:8080/"
        },
        "id": "Fii-Pn6UVtBh",
        "outputId": "55b64c2b-0bb9-4a7d-a84d-f3156a0ed004"
      },
      "execution_count": 8,
      "outputs": [
        {
          "output_type": "stream",
          "name": "stderr",
          "text": [
            "/usr/local/lib/python3.10/dist-packages/konlpy/tag/_okt.py:17: UserWarning: \"Twitter\" has changed to \"Okt\" since KoNLPy v0.4.5.\n",
            "  warn('\"Twitter\" has changed to \"Okt\" since KoNLPy v0.4.5.')\n"
          ]
        }
      ]
    },
    {
      "cell_type": "code",
      "source": [
        "from sklearn.feature_extraction.text import TfidfVectorizer\n",
        "from sklearn.linear_model import LogisticRegression\n",
        "from sklearn.model_selection import GridSearchCV\n",
        "\n",
        "# Twitter 객체의 omrphs() 객체를 이용한 tokenizer를 사용, ngram_range는 (1, 2)\n",
        "tfidf_vect = TfidfVectorizer(tokenizer = tw_Tokenizer, ngram_range = (1, 2), min_df = 3, max_df = 0.9)\n",
        "tfidf_vect.fit(train_df['document'])\n",
        "tfidf_matrix_train = tfidf_vect.transform(train_df['document'])"
      ],
      "metadata": {
        "colab": {
          "base_uri": "https://localhost:8080/"
        },
        "id": "CAut7pIXVtAm",
        "outputId": "13b32392-df59-40a2-ffe9-23fa17c7430a"
      },
      "execution_count": 13,
      "outputs": [
        {
          "output_type": "stream",
          "name": "stderr",
          "text": [
            "/usr/local/lib/python3.10/dist-packages/sklearn/feature_extraction/text.py:521: UserWarning: The parameter 'token_pattern' will not be used since 'tokenizer' is not None'\n",
            "  warnings.warn(\n"
          ]
        }
      ]
    },
    {
      "cell_type": "code",
      "source": [
        "# 로지스틱 회귀를 이용해 감성 분석 분류 수행\n",
        "lg_clf = LogisticRegression(random_state = 0, solver = 'liblinear')\n",
        "\n",
        "# 파라미터 C 최적화를 위해 GridSearchCV를 이용\n",
        "params = {'C': [1, 3.5, 4.5, 5.5, 10]}\n",
        "grid_cv = GridSearchCV(lg_clf, param_grid = params, cv = 3, scoring = 'accuracy', verbose = 1)\n",
        "grid_cv.fit(tfidf_matrix_train, train_df['label'])\n",
        "print(grid_cv.best_params_, round(grid_cv.best_score_, 4))"
      ],
      "metadata": {
        "colab": {
          "base_uri": "https://localhost:8080/"
        },
        "id": "qFhw6PKdVs9d",
        "outputId": "645d7a25-40f0-41fa-c571-de93bc2d29b0"
      },
      "execution_count": 15,
      "outputs": [
        {
          "output_type": "stream",
          "name": "stdout",
          "text": [
            "Fitting 3 folds for each of 5 candidates, totalling 15 fits\n",
            "{'C': 3.5} 0.8593\n"
          ]
        }
      ]
    },
    {
      "cell_type": "code",
      "source": [
        "from sklearn.metrics import accuracy_score\n",
        "\n",
        "#학습 데이터를 적용한 TfidfVectorizer를 이용해 테스트 데이터를 TF-IDF값으로 피처 변환\n",
        "tfidf_matrix_test = tfidf_vect.transform(test_df['document'])\n",
        "\n",
        "#Classifier는 GridSearchCV에서 최적 파라미터로 학습된 classifier를 그대로 이용\n",
        "best_estimator = grid_cv.best_estimator_\n",
        "preds = best_estimator.predict(tfidf_matrix_test)\n",
        "\n",
        "print('Logistic Regression 정확도: ', accuracy_score(test_df['label'], preds))"
      ],
      "metadata": {
        "colab": {
          "base_uri": "https://localhost:8080/"
        },
        "id": "SKl5smNLVs7q",
        "outputId": "19d055d2-b277-4889-e774-f8afc328b8a8"
      },
      "execution_count": 16,
      "outputs": [
        {
          "output_type": "stream",
          "name": "stdout",
          "text": [
            "Logistic Regression 정확도:  0.86172\n"
          ]
        }
      ]
    },
    {
      "cell_type": "code",
      "source": [],
      "metadata": {
        "id": "Sm_fJG3uVs6J"
      },
      "execution_count": null,
      "outputs": []
    },
    {
      "cell_type": "code",
      "source": [],
      "metadata": {
        "id": "1cNpJ9EDVs37"
      },
      "execution_count": null,
      "outputs": []
    },
    {
      "cell_type": "code",
      "source": [],
      "metadata": {
        "id": "1CuLDXDrVs2X"
      },
      "execution_count": null,
      "outputs": []
    },
    {
      "cell_type": "code",
      "source": [],
      "metadata": {
        "id": "cn8e-b0LVs0a"
      },
      "execution_count": null,
      "outputs": []
    },
    {
      "cell_type": "code",
      "source": [],
      "metadata": {
        "id": "AMw26hWsVsyg"
      },
      "execution_count": null,
      "outputs": []
    },
    {
      "cell_type": "code",
      "source": [],
      "metadata": {
        "id": "ckDSRhEQVst7"
      },
      "execution_count": null,
      "outputs": []
    },
    {
      "cell_type": "code",
      "source": [],
      "metadata": {
        "id": "AGQJkT9PVsoV"
      },
      "execution_count": null,
      "outputs": []
    }
  ]
}